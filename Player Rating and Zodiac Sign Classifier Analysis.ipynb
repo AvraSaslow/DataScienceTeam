{
 "cells": [
  {
   "cell_type": "markdown",
   "metadata": {},
   "source": [
    "# Does a Player's Zodiac Sign Predict Their Overall Rating as a Professional Soccer Player?"
   ]
  },
  {
   "cell_type": "markdown",
   "metadata": {},
   "source": [
    "## Import Libraries"
   ]
  },
  {
   "cell_type": "code",
   "execution_count": 267,
   "metadata": {},
   "outputs": [],
   "source": [
    "import math\n",
    "import sqlite3\n",
    "import pandas as pd\n",
    "import numpy as np\n",
    "import matplotlib.pyplot as plt\n",
    "%matplotlib inline\n",
    "import datetime\n",
    "from sklearn.linear_model import SGDRegressor\n",
    "\n",
    "conn = sqlite3.connect('database.sqlite')\n",
    "cursor = conn.cursor()"
   ]
  },
  {
   "cell_type": "markdown",
   "metadata": {},
   "source": [
    "## Exploring the Data"
   ]
  },
  {
   "cell_type": "code",
   "execution_count": 290,
   "metadata": {},
   "outputs": [
    {
     "data": {
      "text/html": [
       "<div>\n",
       "<style scoped>\n",
       "    .dataframe tbody tr th:only-of-type {\n",
       "        vertical-align: middle;\n",
       "    }\n",
       "\n",
       "    .dataframe tbody tr th {\n",
       "        vertical-align: top;\n",
       "    }\n",
       "\n",
       "    .dataframe thead th {\n",
       "        text-align: right;\n",
       "    }\n",
       "</style>\n",
       "<table border=\"1\" class=\"dataframe\">\n",
       "  <thead>\n",
       "    <tr style=\"text-align: right;\">\n",
       "      <th></th>\n",
       "      <th>player_api_id</th>\n",
       "      <th>overall_rating</th>\n",
       "      <th>birthday</th>\n",
       "    </tr>\n",
       "  </thead>\n",
       "  <tbody>\n",
       "    <tr>\n",
       "      <th>0</th>\n",
       "      <td>505942</td>\n",
       "      <td>67.0</td>\n",
       "      <td>1992-02-29 00:00:00</td>\n",
       "    </tr>\n",
       "    <tr>\n",
       "      <th>1</th>\n",
       "      <td>505942</td>\n",
       "      <td>67.0</td>\n",
       "      <td>1992-02-29 00:00:00</td>\n",
       "    </tr>\n",
       "    <tr>\n",
       "      <th>2</th>\n",
       "      <td>505942</td>\n",
       "      <td>62.0</td>\n",
       "      <td>1992-02-29 00:00:00</td>\n",
       "    </tr>\n",
       "    <tr>\n",
       "      <th>3</th>\n",
       "      <td>505942</td>\n",
       "      <td>61.0</td>\n",
       "      <td>1992-02-29 00:00:00</td>\n",
       "    </tr>\n",
       "    <tr>\n",
       "      <th>4</th>\n",
       "      <td>505942</td>\n",
       "      <td>61.0</td>\n",
       "      <td>1992-02-29 00:00:00</td>\n",
       "    </tr>\n",
       "  </tbody>\n",
       "</table>\n",
       "</div>"
      ],
      "text/plain": [
       "   player_api_id  overall_rating             birthday\n",
       "0         505942            67.0  1992-02-29 00:00:00\n",
       "1         505942            67.0  1992-02-29 00:00:00\n",
       "2         505942            62.0  1992-02-29 00:00:00\n",
       "3         505942            61.0  1992-02-29 00:00:00\n",
       "4         505942            61.0  1992-02-29 00:00:00"
      ]
     },
     "execution_count": 290,
     "metadata": {},
     "output_type": "execute_result"
    }
   ],
   "source": [
    "df = pd.read_sql_query(\"SELECT player_api_id, overall_rating FROM Player_Attributes\", conn)\n",
    "df1 = pd.read_sql_query(\"SELECT player_api_id, birthday FROM Player\", conn)\n",
    "\n",
    "player_df = (pd.merge(df, df1, on='player_api_id'))\n",
    "\n",
    "player_df.head()"
   ]
  },
  {
   "cell_type": "code",
   "execution_count": 291,
   "metadata": {
    "scrolled": true
   },
   "outputs": [
    {
     "data": {
      "image/png": "[encoded data removed]",
      "text/plain": [
       "<Figure size 432x288 with 1 Axes>"
      ]
     },
     "metadata": {
      "needs_background": "light"
     },
     "output_type": "display_data"
    }
   ],
   "source": [
    "df_hist = pd.read_sql_query(\"SELECT player_name, birthday FROM Player\", conn)\n",
    "\n",
    "df_hist['month'] = df_hist.birthday.str[5:7].apply(int)\n",
    "\n",
    "his = plt.hist(df_hist['month'], bins=12, color = 'MediumSeaGreen', edgecolor = \"black\")\n",
    "offset = .5\n",
    "plt.xticks(his[1][1:] - offset, ['1', '2', '3', '4','5','6','7','8','9','10','11','12'])\n",
    "plt.xlim([1,12])\n",
    "plt.xlabel('Birth month')\n",
    "plt.ylabel('Number of players')\n",
    "plt.title('Number of Players Born Each Month')\n",
    "plt.show()"
   ]
  },
  {
   "cell_type": "markdown",
   "metadata": {},
   "source": [
    "Looks like the most players are born in Jan, Feb, and March"
   ]
  },
  {
   "cell_type": "markdown",
   "metadata": {},
   "source": [
    "## Cleaning and Parsing the Data"
   ]
  },
  {
   "cell_type": "code",
   "execution_count": 292,
   "metadata": {},
   "outputs": [],
   "source": [
    "list_id,list_rating, list_birthday = player_df.values.transpose()"
   ]
  },
  {
   "cell_type": "markdown",
   "metadata": {},
   "source": [
    "##### Find each all of the ratings for each player id"
   ]
  },
  {
   "cell_type": "code",
   "execution_count": 271,
   "metadata": {},
   "outputs": [],
   "source": [
    "player_multiple_ratings = {}\n",
    "for id, rating in zip(list_id, list_rating):\n",
    "    player_multiple_ratings.setdefault(id, []).append(rating)"
   ]
  },
  {
   "cell_type": "markdown",
   "metadata": {},
   "source": [
    "##### Find the average rating for each player id"
   ]
  },
  {
   "cell_type": "code",
   "execution_count": 272,
   "metadata": {},
   "outputs": [],
   "source": [
    "average_rating = {}\n",
    "for key in player_multiple_ratings:\n",
    "    #print (key, sum(d[key])/len(d[key]))\n",
    "    average_rating[key] = sum(player_multiple_ratings[key])/len(player_multiple_ratings[key]) #find the average"
   ]
  },
  {
   "cell_type": "code",
   "execution_count": 273,
   "metadata": {
    "scrolled": true
   },
   "outputs": [],
   "source": [
    "zodiac_df = player_df\n",
    "zodiac_df['average_rating'] = player_df['player_api_id'].map(average_rating)"
   ]
  },
  {
   "cell_type": "code",
   "execution_count": 274,
   "metadata": {},
   "outputs": [
    {
     "data": {
      "text/html": [
       "<div>\n",
       "<style scoped>\n",
       "    .dataframe tbody tr th:only-of-type {\n",
       "        vertical-align: middle;\n",
       "    }\n",
       "\n",
       "    .dataframe tbody tr th {\n",
       "        vertical-align: top;\n",
       "    }\n",
       "\n",
       "    .dataframe thead th {\n",
       "        text-align: right;\n",
       "    }\n",
       "</style>\n",
       "<table border=\"1\" class=\"dataframe\">\n",
       "  <thead>\n",
       "    <tr style=\"text-align: right;\">\n",
       "      <th></th>\n",
       "      <th>player_api_id</th>\n",
       "      <th>overall_rating</th>\n",
       "      <th>birthday</th>\n",
       "      <th>average_rating</th>\n",
       "    </tr>\n",
       "  </thead>\n",
       "  <tbody>\n",
       "    <tr>\n",
       "      <th>0</th>\n",
       "      <td>505942</td>\n",
       "      <td>67.0</td>\n",
       "      <td>1992-02-29 00:00:00</td>\n",
       "      <td>63.6</td>\n",
       "    </tr>\n",
       "    <tr>\n",
       "      <th>1</th>\n",
       "      <td>505942</td>\n",
       "      <td>67.0</td>\n",
       "      <td>1992-02-29 00:00:00</td>\n",
       "      <td>63.6</td>\n",
       "    </tr>\n",
       "    <tr>\n",
       "      <th>2</th>\n",
       "      <td>505942</td>\n",
       "      <td>62.0</td>\n",
       "      <td>1992-02-29 00:00:00</td>\n",
       "      <td>63.6</td>\n",
       "    </tr>\n",
       "    <tr>\n",
       "      <th>3</th>\n",
       "      <td>505942</td>\n",
       "      <td>61.0</td>\n",
       "      <td>1992-02-29 00:00:00</td>\n",
       "      <td>63.6</td>\n",
       "    </tr>\n",
       "    <tr>\n",
       "      <th>4</th>\n",
       "      <td>505942</td>\n",
       "      <td>61.0</td>\n",
       "      <td>1992-02-29 00:00:00</td>\n",
       "      <td>63.6</td>\n",
       "    </tr>\n",
       "  </tbody>\n",
       "</table>\n",
       "</div>"
      ],
      "text/plain": [
       "   player_api_id  overall_rating             birthday  average_rating\n",
       "0         505942            67.0  1992-02-29 00:00:00            63.6\n",
       "1         505942            67.0  1992-02-29 00:00:00            63.6\n",
       "2         505942            62.0  1992-02-29 00:00:00            63.6\n",
       "3         505942            61.0  1992-02-29 00:00:00            63.6\n",
       "4         505942            61.0  1992-02-29 00:00:00            63.6"
      ]
     },
     "execution_count": 274,
     "metadata": {},
     "output_type": "execute_result"
    }
   ],
   "source": [
    "zodiac_df.head()"
   ]
  },
  {
   "cell_type": "markdown",
   "metadata": {},
   "source": [
    "***Find the zodiac for each player id***"
   ]
  },
  {
   "cell_type": "code",
   "execution_count": 275,
   "metadata": {},
   "outputs": [],
   "source": [
    "def get_zodiac_of_date(date):\n",
    "    zodiacs = [(120, 'Capricorn'), (218, 'Aquarius'), (320, 'Pisces'), (420, 'Aries'), (521, 'Taurus'),\n",
    "           (621, 'Gemini'), (722, 'Cancer'), (823, 'Leo'), (923, 'Virgo'), (1023, 'Libra'),\n",
    "           (1122, 'Scorpio'), (1222, 'Sagittarius'), (1231, 'Capricorn')] \n",
    "    \n",
    "    #1/20, 2/18, 3/20, 4/20, 5/21, 6/21, 7/22, 8/23, 9/23, 10/23, 11/22, 12/22, 12/31\n",
    "    date_number = int(\"\".join((str(date.month), '%02d' % date.day)))\n",
    "    for z in zodiacs:\n",
    "        if date_number <= z[0]:\n",
    "            return z[1]\n",
    "        \n",
    "def get_zodiac_for_players(x):\n",
    "    date  =  x.split(\" \")[0]\n",
    "    date = datetime.datetime.strptime(date, \"%Y-%m-%d\").date()\n",
    "    return get_zodiac_of_date(date)"
   ]
  },
  {
   "cell_type": "code",
   "execution_count": 276,
   "metadata": {
    "scrolled": false
   },
   "outputs": [],
   "source": [
    "zodiac_df[\"zodiac\"] = np.vectorize(get_zodiac_for_players)(player_df[\"birthday\"])"
   ]
  },
  {
   "cell_type": "code",
   "execution_count": 277,
   "metadata": {
    "scrolled": true
   },
   "outputs": [
    {
     "data": {
      "text/html": [
       "<div>\n",
       "<style scoped>\n",
       "    .dataframe tbody tr th:only-of-type {\n",
       "        vertical-align: middle;\n",
       "    }\n",
       "\n",
       "    .dataframe tbody tr th {\n",
       "        vertical-align: top;\n",
       "    }\n",
       "\n",
       "    .dataframe thead th {\n",
       "        text-align: right;\n",
       "    }\n",
       "</style>\n",
       "<table border=\"1\" class=\"dataframe\">\n",
       "  <thead>\n",
       "    <tr style=\"text-align: right;\">\n",
       "      <th></th>\n",
       "      <th>player_api_id</th>\n",
       "      <th>overall_rating</th>\n",
       "      <th>birthday</th>\n",
       "      <th>average_rating</th>\n",
       "      <th>zodiac</th>\n",
       "    </tr>\n",
       "  </thead>\n",
       "  <tbody>\n",
       "    <tr>\n",
       "      <th>0</th>\n",
       "      <td>505942</td>\n",
       "      <td>67.0</td>\n",
       "      <td>1992-02-29 00:00:00</td>\n",
       "      <td>63.6</td>\n",
       "      <td>Pisces</td>\n",
       "    </tr>\n",
       "    <tr>\n",
       "      <th>1</th>\n",
       "      <td>505942</td>\n",
       "      <td>67.0</td>\n",
       "      <td>1992-02-29 00:00:00</td>\n",
       "      <td>63.6</td>\n",
       "      <td>Pisces</td>\n",
       "    </tr>\n",
       "    <tr>\n",
       "      <th>2</th>\n",
       "      <td>505942</td>\n",
       "      <td>62.0</td>\n",
       "      <td>1992-02-29 00:00:00</td>\n",
       "      <td>63.6</td>\n",
       "      <td>Pisces</td>\n",
       "    </tr>\n",
       "    <tr>\n",
       "      <th>3</th>\n",
       "      <td>505942</td>\n",
       "      <td>61.0</td>\n",
       "      <td>1992-02-29 00:00:00</td>\n",
       "      <td>63.6</td>\n",
       "      <td>Pisces</td>\n",
       "    </tr>\n",
       "    <tr>\n",
       "      <th>4</th>\n",
       "      <td>505942</td>\n",
       "      <td>61.0</td>\n",
       "      <td>1992-02-29 00:00:00</td>\n",
       "      <td>63.6</td>\n",
       "      <td>Pisces</td>\n",
       "    </tr>\n",
       "  </tbody>\n",
       "</table>\n",
       "</div>"
      ],
      "text/plain": [
       "   player_api_id  overall_rating             birthday  average_rating  zodiac\n",
       "0         505942            67.0  1992-02-29 00:00:00            63.6  Pisces\n",
       "1         505942            67.0  1992-02-29 00:00:00            63.6  Pisces\n",
       "2         505942            62.0  1992-02-29 00:00:00            63.6  Pisces\n",
       "3         505942            61.0  1992-02-29 00:00:00            63.6  Pisces\n",
       "4         505942            61.0  1992-02-29 00:00:00            63.6  Pisces"
      ]
     },
     "execution_count": 277,
     "metadata": {},
     "output_type": "execute_result"
    }
   ],
   "source": [
    "zodiac_df.head()"
   ]
  },
  {
   "cell_type": "code",
   "execution_count": 278,
   "metadata": {
    "scrolled": false
   },
   "outputs": [
    {
     "data": {
      "text/html": [
       "<div>\n",
       "<style scoped>\n",
       "    .dataframe tbody tr th:only-of-type {\n",
       "        vertical-align: middle;\n",
       "    }\n",
       "\n",
       "    .dataframe tbody tr th {\n",
       "        vertical-align: top;\n",
       "    }\n",
       "\n",
       "    .dataframe thead th {\n",
       "        text-align: right;\n",
       "    }\n",
       "</style>\n",
       "<table border=\"1\" class=\"dataframe\">\n",
       "  <thead>\n",
       "    <tr style=\"text-align: right;\">\n",
       "      <th></th>\n",
       "      <th>player_api_id</th>\n",
       "      <th>overall_rating</th>\n",
       "      <th>birthday</th>\n",
       "      <th>average_rating</th>\n",
       "      <th>zodiac</th>\n",
       "    </tr>\n",
       "  </thead>\n",
       "  <tbody>\n",
       "    <tr>\n",
       "      <th>0</th>\n",
       "      <td>505942</td>\n",
       "      <td>67.0</td>\n",
       "      <td>1992-02-29 00:00:00</td>\n",
       "      <td>63.600000</td>\n",
       "      <td>Pisces</td>\n",
       "    </tr>\n",
       "    <tr>\n",
       "      <th>5</th>\n",
       "      <td>155782</td>\n",
       "      <td>74.0</td>\n",
       "      <td>1989-12-15 00:00:00</td>\n",
       "      <td>66.969697</td>\n",
       "      <td>Sagittarius</td>\n",
       "    </tr>\n",
       "    <tr>\n",
       "      <th>38</th>\n",
       "      <td>162549</td>\n",
       "      <td>65.0</td>\n",
       "      <td>1991-05-13 00:00:00</td>\n",
       "      <td>67.000000</td>\n",
       "      <td>Taurus</td>\n",
       "    </tr>\n",
       "    <tr>\n",
       "      <th>64</th>\n",
       "      <td>30572</td>\n",
       "      <td>69.0</td>\n",
       "      <td>1982-05-08 00:00:00</td>\n",
       "      <td>69.086957</td>\n",
       "      <td>Taurus</td>\n",
       "    </tr>\n",
       "    <tr>\n",
       "      <th>87</th>\n",
       "      <td>23780</td>\n",
       "      <td>70.0</td>\n",
       "      <td>1979-11-08 00:00:00</td>\n",
       "      <td>73.240000</td>\n",
       "      <td>Scorpio</td>\n",
       "    </tr>\n",
       "  </tbody>\n",
       "</table>\n",
       "</div>"
      ],
      "text/plain": [
       "    player_api_id  overall_rating             birthday  average_rating  \\\n",
       "0          505942            67.0  1992-02-29 00:00:00       63.600000   \n",
       "5          155782            74.0  1989-12-15 00:00:00       66.969697   \n",
       "38         162549            65.0  1991-05-13 00:00:00       67.000000   \n",
       "64          30572            69.0  1982-05-08 00:00:00       69.086957   \n",
       "87          23780            70.0  1979-11-08 00:00:00       73.240000   \n",
       "\n",
       "         zodiac  \n",
       "0        Pisces  \n",
       "5   Sagittarius  \n",
       "38       Taurus  \n",
       "64       Taurus  \n",
       "87      Scorpio  "
      ]
     },
     "execution_count": 278,
     "metadata": {},
     "output_type": "execute_result"
    }
   ],
   "source": [
    "zodiac_df = zodiac_df.drop_duplicates(['player_api_id'], keep = \"first\")\n",
    "zodiac_df.head()"
   ]
  },
  {
   "cell_type": "markdown",
   "metadata": {},
   "source": [
    "***Create column that references zodiac column and assigns correlated int***"
   ]
  },
  {
   "cell_type": "code",
   "execution_count": 279,
   "metadata": {},
   "outputs": [],
   "source": [
    "def get_zodiac_number(x):\n",
    "    if x == 'Capricorn':\n",
    "        return 1\n",
    "    if x == 'Aquarius':\n",
    "        return 2\n",
    "    if x == 'Pisces':\n",
    "        return 3\n",
    "    if x == 'Aries':\n",
    "        return 4\n",
    "    if x == 'Taurus':\n",
    "        return 5\n",
    "    if x == 'Gemini':\n",
    "        return 6\n",
    "    if x == 'Cancer':\n",
    "        return 7\n",
    "    if x == 'Leo':\n",
    "        return 8\n",
    "    if x == 'Virgo':\n",
    "        return 9\n",
    "    if x == 'Libra':\n",
    "        return 10\n",
    "    if x == 'Scorpio':\n",
    "        return 11\n",
    "    if x == 'Sagittarius':\n",
    "        return 12"
   ]
  },
  {
   "cell_type": "code",
   "execution_count": 280,
   "metadata": {},
   "outputs": [],
   "source": [
    "pd.options.mode.chained_assignment = None  "
   ]
  },
  {
   "cell_type": "code",
   "execution_count": 281,
   "metadata": {
    "scrolled": true
   },
   "outputs": [],
   "source": [
    "zodiac_df['zodiac_number'] = zodiac_df['zodiac'].apply(lambda x: get_zodiac_number(x))"
   ]
  },
  {
   "cell_type": "code",
   "execution_count": 282,
   "metadata": {},
   "outputs": [
    {
     "data": {
      "text/html": [
       "<div>\n",
       "<style scoped>\n",
       "    .dataframe tbody tr th:only-of-type {\n",
       "        vertical-align: middle;\n",
       "    }\n",
       "\n",
       "    .dataframe tbody tr th {\n",
       "        vertical-align: top;\n",
       "    }\n",
       "\n",
       "    .dataframe thead th {\n",
       "        text-align: right;\n",
       "    }\n",
       "</style>\n",
       "<table border=\"1\" class=\"dataframe\">\n",
       "  <thead>\n",
       "    <tr style=\"text-align: right;\">\n",
       "      <th></th>\n",
       "      <th>player_api_id</th>\n",
       "      <th>overall_rating</th>\n",
       "      <th>birthday</th>\n",
       "      <th>average_rating</th>\n",
       "      <th>zodiac</th>\n",
       "      <th>zodiac_number</th>\n",
       "    </tr>\n",
       "  </thead>\n",
       "  <tbody>\n",
       "    <tr>\n",
       "      <th>0</th>\n",
       "      <td>505942</td>\n",
       "      <td>67.0</td>\n",
       "      <td>1992-02-29 00:00:00</td>\n",
       "      <td>63.600000</td>\n",
       "      <td>Pisces</td>\n",
       "      <td>3</td>\n",
       "    </tr>\n",
       "    <tr>\n",
       "      <th>5</th>\n",
       "      <td>155782</td>\n",
       "      <td>74.0</td>\n",
       "      <td>1989-12-15 00:00:00</td>\n",
       "      <td>66.969697</td>\n",
       "      <td>Sagittarius</td>\n",
       "      <td>12</td>\n",
       "    </tr>\n",
       "    <tr>\n",
       "      <th>38</th>\n",
       "      <td>162549</td>\n",
       "      <td>65.0</td>\n",
       "      <td>1991-05-13 00:00:00</td>\n",
       "      <td>67.000000</td>\n",
       "      <td>Taurus</td>\n",
       "      <td>5</td>\n",
       "    </tr>\n",
       "    <tr>\n",
       "      <th>64</th>\n",
       "      <td>30572</td>\n",
       "      <td>69.0</td>\n",
       "      <td>1982-05-08 00:00:00</td>\n",
       "      <td>69.086957</td>\n",
       "      <td>Taurus</td>\n",
       "      <td>5</td>\n",
       "    </tr>\n",
       "    <tr>\n",
       "      <th>87</th>\n",
       "      <td>23780</td>\n",
       "      <td>70.0</td>\n",
       "      <td>1979-11-08 00:00:00</td>\n",
       "      <td>73.240000</td>\n",
       "      <td>Scorpio</td>\n",
       "      <td>11</td>\n",
       "    </tr>\n",
       "  </tbody>\n",
       "</table>\n",
       "</div>"
      ],
      "text/plain": [
       "    player_api_id  overall_rating             birthday  average_rating  \\\n",
       "0          505942            67.0  1992-02-29 00:00:00       63.600000   \n",
       "5          155782            74.0  1989-12-15 00:00:00       66.969697   \n",
       "38         162549            65.0  1991-05-13 00:00:00       67.000000   \n",
       "64          30572            69.0  1982-05-08 00:00:00       69.086957   \n",
       "87          23780            70.0  1979-11-08 00:00:00       73.240000   \n",
       "\n",
       "         zodiac  zodiac_number  \n",
       "0        Pisces              3  \n",
       "5   Sagittarius             12  \n",
       "38       Taurus              5  \n",
       "64       Taurus              5  \n",
       "87      Scorpio             11  "
      ]
     },
     "execution_count": 282,
     "metadata": {},
     "output_type": "execute_result"
    }
   ],
   "source": [
    "zodiac_df.head()"
   ]
  },
  {
   "cell_type": "markdown",
   "metadata": {},
   "source": [
    "## Implementing Stochastic Gradient Descent Regressor"
   ]
  },
  {
   "cell_type": "code",
   "execution_count": 316,
   "metadata": {},
   "outputs": [
    {
     "data": {
      "text/plain": [
       "(10304, 6)"
      ]
     },
     "execution_count": 316,
     "metadata": {},
     "output_type": "execute_result"
    }
   ],
   "source": [
    "zodiac_df.shape"
   ]
  },
  {
   "cell_type": "markdown",
   "metadata": {},
   "source": [
    "![machinelearningmap](machine_learning_map.png)"
   ]
  },
  {
   "cell_type": "code",
   "execution_count": 283,
   "metadata": {},
   "outputs": [],
   "source": [
    "zodiac_df = zodiac_df.dropna()\n",
    "zodiac_df[\"average_rating\"]= zodiac_df[\"average_rating\"].astype(int)\n",
    "\n",
    "fitter = SGDRegressor(loss=\"squared_loss\", penalty=None)"
   ]
  },
  {
   "cell_type": "code",
   "execution_count": 323,
   "metadata": {},
   "outputs": [
    {
     "name": "stderr",
     "output_type": "stream",
     "text": [
      "/Users/avrasaslow/anaconda3/lib/python3.7/site-packages/ipykernel_launcher.py:1: FutureWarning: Method .as_matrix will be removed in a future version. Use .values instead.\n",
      "  \"\"\"Entry point for launching an IPython kernel.\n"
     ]
    }
   ],
   "source": [
    "X = zodiac_df.as_matrix(columns=[\"zodiac_number\"]) #a true matrix for SDGRegressor\n",
    "y = zodiac_df[\"average_rating\"].tolist() #player_rating is what we want to predict"
   ]
  },
  {
   "cell_type": "code",
   "execution_count": 324,
   "metadata": {
    "scrolled": false
   },
   "outputs": [
    {
     "data": {
      "text/plain": [
       "SGDRegressor(alpha=0.0001, average=False, early_stopping=False, epsilon=0.1,\n",
       "             eta0=0.01, fit_intercept=True, l1_ratio=0.15,\n",
       "             learning_rate='invscaling', loss='squared_loss', max_iter=1000,\n",
       "             n_iter_no_change=5, penalty=None, power_t=0.25, random_state=None,\n",
       "             shuffle=True, tol=0.001, validation_fraction=0.1, verbose=0,\n",
       "             warm_start=False)"
      ]
     },
     "execution_count": 324,
     "metadata": {},
     "output_type": "execute_result"
    }
   ],
   "source": [
    "fitter.fit(X, y)"
   ]
  },
  {
   "cell_type": "code",
   "execution_count": 328,
   "metadata": {},
   "outputs": [
    {
     "data": {
      "text/plain": [
       "Text(0, 0.5, 'Player Rating')"
      ]
     },
     "execution_count": 328,
     "metadata": {},
     "output_type": "execute_result"
    },
    {
     "data": {
      "image/png": "[encoded data removed]",
      "text/plain": [
       "<Figure size 720x576 with 1 Axes>"
      ]
     },
     "metadata": {
      "needs_background": "light"
     },
     "output_type": "display_data"
    }
   ],
   "source": [
    "xs = list(range(0, 15, 1))\n",
    "xs = np.array(xs).reshape(-1, 1)\n",
    "\n",
    "new_ys = fitter.predict(xs)\n",
    "\n",
    "fig, ax = plt.subplots(figsize=(10, 8))\n",
    "\n",
    "ax.scatter(zodiac_df[\"zodiac_number\"], zodiac_df[\"average_rating\"])\n",
    "ax.plot(xs, new_ys, color=\"#8ab942\") #green cause soccer fields are green\n",
    "\n",
    "ax.title.set_text('Determining if Zodiac Sign Predicts Player Rating Using SGD Regression')\n",
    "ax.set_xlabel('Zodiac Sign') \n",
    "ax.set_ylabel('Player Rating')"
   ]
  },
  {
   "cell_type": "code",
   "execution_count": 329,
   "metadata": {
    "scrolled": true
   },
   "outputs": [
    {
     "name": "stdout",
     "output_type": "stream",
     "text": [
      "R-squared value is -0.0009416644002810948\n"
     ]
    }
   ],
   "source": [
    "r2 = fitter.score(X, y, sample_weight=None)\n",
    "print(\"R-squared value is\", r2)"
   ]
  }
 ],
 "metadata": {
  "kernelspec": {
   "display_name": "Python 3",
   "language": "python",
   "name": "python3"
  },
  "language_info": {
   "codemirror_mode": {
    "name": "ipython",
    "version": 3
   },
   "file_extension": ".py",
   "mimetype": "text/x-python",
   "name": "python",
   "nbconvert_exporter": "python",
   "pygments_lexer": "ipython3",
   "version": "3.7.3"
  }
 },
 "nbformat": 4,
 "nbformat_minor": 2
}
